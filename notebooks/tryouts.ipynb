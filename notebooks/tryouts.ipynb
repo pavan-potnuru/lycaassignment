{
 "cells": [
  {
   "cell_type": "code",
   "execution_count": null,
   "id": "3e0da5fa",
   "metadata": {},
   "outputs": [],
   "source": [
    "print(\"Hello world\")"
   ]
  },
  {
   "cell_type": "code",
   "execution_count": 16,
   "id": "611e8518",
   "metadata": {},
   "outputs": [
    {
     "name": "stdout",
     "output_type": "stream",
     "text": [
      "```json\n",
      "{\n",
      "    \"error\":\"the query cannot be answered using the available datasets\"\n",
      "}\n",
      "```\n"
     ]
    }
   ],
   "source": [
    "from openai import OpenAI\n",
    "\n",
    "from dotenv import load_dotenv\n",
    "load_dotenv()\n",
    "\n",
    "\n",
    "client = OpenAI()\n",
    "question = input(\"Enter your query: \")\n",
    "prompt = f\"\"\" You are a data analyst.\n",
    "\n",
    "There are 3 datasets and user will ask questions based on these datasets:\n",
    "- sample_bo_tbl_large.csv: country (a 3 digit code like \"AAA\"), date, total_mins, international_mins, sms, total_data_usage, payg_amount\n",
    "- sample_sub_details_large.csv: country, channel, date, subs, netadds, churn\n",
    "- sample_revenue_large.csv: country, channel, date, revenue, net_revenue\n",
    "\n",
    "Your task:\n",
    "- Identify relevant datasets (with alias)\n",
    "- Suggest joins (if needed): left, right, on, how\n",
    "- Provide filters as list of {{\"column\": \"...\", \"operator\": \"...\", \"value\": ...}}\n",
    "- Indicate aggregation type (\"sum\", \"mean\", \"correlation\", etc.)\n",
    "- List involved columns\n",
    "\n",
    "Your response should be only a JSON in the following format which will be an input as parameters to a method which performs these operations using pandas:\n",
    "{{\n",
    "  \"datasets\": [\"name\":..., \"alias\":...],\n",
    "  \"joins\": [...],\n",
    "  \"filters\": [...],\n",
    "  \"aggregation\": \"...\",\n",
    "  \"columns\": [...]\n",
    "}}\n",
    "If there is a date in the filters convert it into relevant dates of format dd-mm-yyyy and add it to the JSON.\n",
    "Think step by step and then form the params JSON.\n",
    "Double check all the values before giving the response. Donot confuse between operators == and =.\n",
    "If the user asks queries that cannot be answered using the datasets, return a json in the following format:\n",
    "{{\n",
    "    \"error\":\"the query cannot be answered using the available datasets\"\n",
    "}}\n",
    "User Question: {question}\"\"\"\n",
    "response = client.chat.completions.create(\n",
    "    model = \"gpt-4o\",\n",
    "    messages = [{\"role\":\"user\",\"content\":prompt}],\n",
    ")\n",
    "print(response.choices[0].message.content)"
   ]
  },
  {
   "cell_type": "code",
   "execution_count": 106,
   "id": "c6596885",
   "metadata": {},
   "outputs": [
    {
     "name": "stdout",
     "output_type": "stream",
     "text": [
      "To find the churn for country 'AAA' last month, we need to filter data from the 'sample_sub_details_large' table where the country is 'AAA' and the date is within the last month. First, we'll get the current month's first day using date('now', 'start of month'), then we will obtain the last month's first day using date('now', 'start of month', '-1 month'). This will allow us to filter the records for the entire last month. Finally, we'll sum up the churn values for these filtered records.\n",
      "SELECT SUM(churn) FROM sample_sub_details_large WHERE country = 'AAA' AND date >= date('now', 'start of month', '-1 month') AND date < date('now', 'start of month')\n"
     ]
    }
   ],
   "source": [
    "from openai import OpenAI\n",
    "\n",
    "from dotenv import load_dotenv\n",
    "load_dotenv()\n",
    "\n",
    "\n",
    "client = OpenAI()\n",
    "question = \"What was the churn in AAA last month?\"\n",
    "prompt = f\"\"\" You are a specialist in generating queries for SQLite database.\n",
    "\n",
    "There are 3 tables in the database and user will ask questions based on data from these tables:\n",
    "- sample_bo_tbl_large: country (a 3 digit code like \"AAA\"), date, total_mins, international_mins, sms, total_data_usage, payg_amount\n",
    "- sample_sub_details_large: country, channel, date, subs, netadds, churn\n",
    "- sample_revenue_large: country, channel, date, revenue, net_revenue\n",
    "\n",
    "Your task is to generate an SQLite-compatible SQL query to answer the user question.\n",
    "If time related queries are asked, fetch todays date and then calculate accordingly.\n",
    "Think step by step and then formulate the query. Do not add any comments in the query.\n",
    "Generate queries using builtin functions of SQLite.\n",
    "Maintain consistency in your query generation pattern and generate as simple query as possible for a given question.\n",
    "If the query cannot be answered from the available datasets, just respond with \"Query out of available data range.\"\n",
    "Generate the response which contains reasoning step by step and a query in the following format:\n",
    "{{\"Reasoning\": ..., \"Query\": ...}}\n",
    "User Question: {question}\"\"\"\n",
    "response = client.chat.completions.create(\n",
    "    model = \"gpt-4o\",\n",
    "    messages = [{\"role\":\"user\",\"content\":prompt}],\n",
    ")\n",
    "print(eval(response.choices[0].message.content)[\"Reasoning\"])\n",
    "print(eval(response.choices[0].message.content)[\"Query\"])"
   ]
  },
  {
   "cell_type": "code",
   "execution_count": 96,
   "id": "18e1ff98",
   "metadata": {},
   "outputs": [
    {
     "name": "stdout",
     "output_type": "stream",
     "text": [
      "SELECT SUM(churn) AS total_churn\n",
      "FROM sample_sub_details_large\n",
      "WHERE country = 'AAA' AND date >= date('now', 'start of month', '-1 month') AND date < date('now', 'start of month');\n",
      "\n"
     ]
    }
   ],
   "source": [
    "sql=response.choices[0].message.content.split(\"```\")[1][4:]\n",
    "print(sql)"
   ]
  },
  {
   "cell_type": "code",
   "execution_count": 99,
   "id": "f25886f8",
   "metadata": {},
   "outputs": [
    {
     "name": "stdout",
     "output_type": "stream",
     "text": [
      "c:\\Users\\hp\\Documents\\lycaassignment\\db\\data.db\n"
     ]
    }
   ],
   "source": [
    "import sqlite3\n",
    "import pandas as pd\n",
    "import os\n",
    "\n",
    "def load_csvs_to_sqlite(db_path):\n",
    "    conn = sqlite3.connect(db_path)\n",
    "    # Load each CSV\n",
    "    bo_df = pd.read_csv('../data/sample_bo_tbl_large.csv')\n",
    "    bo_df.to_sql('sample_bo_tbl_large', conn, if_exists='replace', index=False)\n",
    "\n",
    "    sub_df = pd.read_csv('../data/sample_sub_details_large.csv')\n",
    "    sub_df.to_sql('sample_sub_details_large', conn, if_exists='replace', index=False)\n",
    "\n",
    "    rev_df = pd.read_csv('../data/sample_revenue_large.csv')\n",
    "    rev_df.to_sql('sample_revenue_large', conn, if_exists='replace', index=False)\n",
    "\n",
    "    conn.close()\n",
    "\n",
    "db_path = os.path.abspath(\"../db/data.db\")\n",
    "print(db_path)\n",
    "load_csvs_to_sqlite(db_path)"
   ]
  },
  {
   "cell_type": "code",
   "execution_count": 82,
   "id": "720da965",
   "metadata": {},
   "outputs": [],
   "source": [
    "import sqlite3\n",
    "\n",
    "def run_sql(db_path, sql):\n",
    "    conn = sqlite3.connect(db_path)\n",
    "    cursor = conn.cursor()\n",
    "    cursor.execute(sql)\n",
    "    rows = cursor.fetchall()\n",
    "    conn.close()\n",
    "    print(rows)\n",
    "    return rows"
   ]
  },
  {
   "cell_type": "code",
   "execution_count": 97,
   "id": "09f6a674",
   "metadata": {},
   "outputs": [
    {
     "name": "stdout",
     "output_type": "stream",
     "text": [
      "SELECT SUM(churn) AS total_churn\n",
      "FROM sample_sub_details_large\n",
      "WHERE country = 'AAA' AND date >= date('now', 'start of month', '-1 month') AND date < date('now', 'start of month');\n",
      "\n",
      "[(4645,)]\n"
     ]
    }
   ],
   "source": [
    "print(sql)\n",
    "answer=run_sql(db_path=db_path,sql= sql)"
   ]
  },
  {
   "cell_type": "code",
   "execution_count": 98,
   "id": "1e7d84b1",
   "metadata": {},
   "outputs": [
    {
     "name": "stdout",
     "output_type": "stream",
     "text": [
      "Last month, the churn in AAA was 4,645.\n"
     ]
    }
   ],
   "source": [
    "response_prompt =f\"\"\"Given the following question and answer, rephrase the answer as a proper meaningful response to the question in a friendly tone.\n",
    "Question: {question}\n",
    "Answer: {answer}\"\"\" \n",
    "response = client.chat.completions.create(\n",
    "    model = \"gpt-4o\",\n",
    "    messages = [{\"role\":\"user\",\"content\":response_prompt}],\n",
    ")\n",
    "print(response.choices[0].message.content)"
   ]
  },
  {
   "cell_type": "code",
   "execution_count": 77,
   "id": "abb28fc6",
   "metadata": {},
   "outputs": [
    {
     "name": "stdout",
     "output_type": "stream",
     "text": [
      "Tables in database:\n",
      "bo_table\n",
      "sub_table\n",
      "rev_table\n",
      "sample_bo_tbl_large\n",
      "sample_sub_details_large\n",
      "sample_revenue_large\n"
     ]
    }
   ],
   "source": [
    "import sqlite3\n",
    "\n",
    "\n",
    "conn = sqlite3.connect(db_path)  # adjust path to your db\n",
    "cursor = conn.cursor()\n",
    "\n",
    "cursor.execute(\"SELECT name FROM sqlite_master WHERE type='table';\")\n",
    "tables = cursor.fetchall()\n",
    "\n",
    "print(\"Tables in database:\")\n",
    "for table in tables:\n",
    "    print(table[0])\n",
    "\n",
    "conn.close()\n"
   ]
  },
  {
   "cell_type": "code",
   "execution_count": null,
   "id": "bb969752",
   "metadata": {},
   "outputs": [],
   "source": []
  }
 ],
 "metadata": {
  "kernelspec": {
   "display_name": ".venv",
   "language": "python",
   "name": "python3"
  },
  "language_info": {
   "codemirror_mode": {
    "name": "ipython",
    "version": 3
   },
   "file_extension": ".py",
   "mimetype": "text/x-python",
   "name": "python",
   "nbconvert_exporter": "python",
   "pygments_lexer": "ipython3",
   "version": "3.13.3"
  }
 },
 "nbformat": 4,
 "nbformat_minor": 5
}
