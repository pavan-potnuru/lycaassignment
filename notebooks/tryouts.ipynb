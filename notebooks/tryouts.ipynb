{
 "cells": [
  {
   "cell_type": "code",
   "execution_count": null,
   "id": "3e0da5fa",
   "metadata": {},
   "outputs": [],
   "source": [
    "print(\"Hello world\")"
   ]
  },
  {
   "cell_type": "code",
   "execution_count": 16,
   "id": "611e8518",
   "metadata": {},
   "outputs": [
    {
     "name": "stdout",
     "output_type": "stream",
     "text": [
      "```json\n",
      "{\n",
      "    \"error\":\"the query cannot be answered using the available datasets\"\n",
      "}\n",
      "```\n"
     ]
    }
   ],
   "source": [
    "from openai import OpenAI\n",
    "\n",
    "from dotenv import load_dotenv\n",
    "load_dotenv()\n",
    "\n",
    "\n",
    "client = OpenAI()\n",
    "question = input(\"Enter your query: \")\n",
    "prompt = f\"\"\" You are a data analyst.\n",
    "\n",
    "There are 3 datasets and user will ask questions based on these datasets:\n",
    "- sample_bo_tbl_large.csv: country (a 3 digit code like \"AAA\"), date, total_mins, international_mins, sms, total_data_usage, payg_amount\n",
    "- sample_sub_details_large.csv: country, channel, date, subs, netadds, churn\n",
    "- sample_revenue_large.csv: country, channel, date, revenue, net_revenue\n",
    "\n",
    "Your task:\n",
    "- Identify relevant datasets (with alias)\n",
    "- Suggest joins (if needed): left, right, on, how\n",
    "- Provide filters as list of {{\"column\": \"...\", \"operator\": \"...\", \"value\": ...}}\n",
    "- Indicate aggregation type (\"sum\", \"mean\", \"correlation\", etc.)\n",
    "- List involved columns\n",
    "\n",
    "Your response should be only a JSON in the following format which will be an input as parameters to a method which performs these operations using pandas:\n",
    "{{\n",
    "  \"datasets\": [\"name\":..., \"alias\":...],\n",
    "  \"joins\": [...],\n",
    "  \"filters\": [...],\n",
    "  \"aggregation\": \"...\",\n",
    "  \"columns\": [...]\n",
    "}}\n",
    "If there is a date in the filters convert it into relevant dates of format dd-mm-yyyy and add it to the JSON.\n",
    "Think step by step and then form the params JSON.\n",
    "Double check all the values before giving the response. Donot confuse between operators == and =.\n",
    "If the user asks queries that cannot be answered using the datasets, return a json in the following format:\n",
    "{{\n",
    "    \"error\":\"the query cannot be answered using the available datasets\"\n",
    "}}\n",
    "User Question: {question}\"\"\"\n",
    "response = client.chat.completions.create(\n",
    "    model = \"gpt-4o\",\n",
    "    messages = [{\"role\":\"user\",\"content\":prompt}],\n",
    ")\n",
    "print(response.choices[0].message.content)"
   ]
  },
  {
   "cell_type": "code",
   "execution_count": 17,
   "id": "c6596885",
   "metadata": {},
   "outputs": [
    {
     "name": "stdout",
     "output_type": "stream",
     "text": [
      "To answer the user question, you need to calculate the churn-to-subscriber ratio for each country in Q1 and then determine which country had the highest ratio.\n",
      "\n",
      "To achieve this, follow these steps:\n",
      "1. Filter the data for Q1 (January, February, March).\n",
      "2. For each country, calculate the churn-to-subscriber ratio by dividing the sum of churn by the sum of subs.\n",
      "3. Identify the country with the highest churn-to-subscriber ratio.\n",
      "\n",
      "Here's the SQL query to perform these steps:\n",
      "\n",
      "```sql\n",
      "WITH Q1_data AS (\n",
      "    SELECT \n",
      "        country, \n",
      "        SUM(churn) AS total_churn, \n",
      "        SUM(subs) AS total_subs\n",
      "    FROM \n",
      "        sample_sub_details_large\n",
      "    WHERE \n",
      "        EXTRACT(MONTH FROM TO_DATE(date, 'YYYY-MM-DD')) IN (1, 2, 3)\n",
      "    GROUP BY \n",
      "        country\n",
      ")\n",
      "SELECT \n",
      "    country, \n",
      "    (total_churn::decimal / NULLIF(total_subs, 0)) AS churn_to_subs_ratio\n",
      "FROM \n",
      "    Q1_data\n",
      "ORDER BY \n",
      "    churn_to_subs_ratio DESC\n",
      "LIMIT 1;\n",
      "```\n",
      "\n",
      "This query first filters out the relevant data for Q1, calculates the total churn and total subscribers for each country, computes the churn-to-subscriber ratio, and then selects the country with the highest ratio.\n"
     ]
    }
   ],
   "source": [
    "from openai import OpenAI\n",
    "\n",
    "from dotenv import load_dotenv\n",
    "load_dotenv()\n",
    "\n",
    "\n",
    "client = OpenAI()\n",
    "question = input(\"Enter your query: \")\n",
    "prompt = f\"\"\" You are a data analyst.\n",
    "\n",
    "There are 3 datasets and user will ask questions based on these datasets:\n",
    "- sample_bo_tbl_large.csv: country (a 3 digit code like \"AAA\"), date, total_mins, international_mins, sms, total_data_usage, payg_amount\n",
    "- sample_sub_details_large.csv: country, channel, date, subs, netadds, churn\n",
    "- sample_revenue_large.csv: country, channel, date, revenue, net_revenue\n",
    "\n",
    "Your task is to generate an SQL query to answer the user question. Just return the SQL query.\n",
    "Think step by step and then formulate the query.\n",
    "If the query cannot be answered from the available datasets, just respond with \"Query out of available data range.\"\n",
    "User Question: {question}\"\"\"\n",
    "response = client.chat.completions.create(\n",
    "    model = \"gpt-4o\",\n",
    "    messages = [{\"role\":\"user\",\"content\":prompt}],\n",
    ")\n",
    "print(response.choices[0].message.content)"
   ]
  },
  {
   "cell_type": "code",
   "execution_count": 26,
   "id": "18e1ff98",
   "metadata": {},
   "outputs": [
    {
     "name": "stdout",
     "output_type": "stream",
     "text": [
      "sql\n",
      "WITH Q1_data AS (\n",
      "    SELECT \n",
      "        country, \n",
      "        SUM(churn) AS total_churn, \n",
      "        SUM(subs) AS total_subs\n",
      "    FROM \n",
      "        sample_sub_details_large\n",
      "    WHERE \n",
      "        EXTRACT(MONTH FROM TO_DATE(date, 'YYYY-MM-DD')) IN (1, 2, 3)\n",
      "    GROUP BY \n",
      "        country\n",
      ")\n",
      "SELECT \n",
      "    country, \n",
      "    (total_churn::decimal / NULLIF(total_subs, 0)) AS churn_to_subs_ratio\n",
      "FROM \n",
      "    Q1_data\n",
      "ORDER BY \n",
      "    churn_to_subs_ratio DESC\n",
      "LIMIT 1;\n",
      "\n"
     ]
    }
   ],
   "source": [
    "print(response.choices[0].message.content.split(\"```\")[1])"
   ]
  },
  {
   "cell_type": "code",
   "execution_count": 12,
   "id": "5f6b5133",
   "metadata": {},
   "outputs": [
    {
     "name": "stdout",
     "output_type": "stream",
     "text": [
      "Before loading .env: your_api_key_here\n"
     ]
    }
   ],
   "source": [
    "import os\n",
    "print(\"Before loading .env:\", os.getenv(\"OPENAI_API_KEY\"))"
   ]
  },
  {
   "cell_type": "code",
   "execution_count": null,
   "id": "f25886f8",
   "metadata": {},
   "outputs": [],
   "source": []
  }
 ],
 "metadata": {
  "kernelspec": {
   "display_name": ".venv",
   "language": "python",
   "name": "python3"
  },
  "language_info": {
   "codemirror_mode": {
    "name": "ipython",
    "version": 3
   },
   "file_extension": ".py",
   "mimetype": "text/x-python",
   "name": "python",
   "nbconvert_exporter": "python",
   "pygments_lexer": "ipython3",
   "version": "3.13.3"
  }
 },
 "nbformat": 4,
 "nbformat_minor": 5
}
